{
 "cells": [
  {
   "cell_type": "markdown",
   "id": "02b7e367",
   "metadata": {},
   "source": [
    "# Prepare data for manipulation"
   ]
  }
 ],
 "metadata": {
  "language_info": {
   "name": "python"
  }
 },
 "nbformat": 4,
 "nbformat_minor": 5
}
